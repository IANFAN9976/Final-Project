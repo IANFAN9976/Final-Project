{
 "cells": [
  {
   "cell_type": "code",
   "execution_count": 30,
   "id": "23d7878b",
   "metadata": {},
   "outputs": [],
   "source": [
    "import numpy as np\n",
    "import pandas as pd\n",
    "import warnings\n",
    "\n",
    "warnings.filterwarnings('ignore')"
   ]
  },
  {
   "cell_type": "code",
   "execution_count": 43,
   "id": "03486269",
   "metadata": {},
   "outputs": [],
   "source": [
    "df_sub=pd.read_pickle('subscribers')\n",
    "df_cust = pd.read_pickle('customer_service_reps')\n",
    "df_en = pd.read_pickle('engagement')\n",
    "df_ch = pd.read_csv('Copy of channel_spend_graduate.csv')"
   ]
  },
  {
   "cell_type": "code",
   "execution_count": 44,
   "id": "bafad955",
   "metadata": {},
   "outputs": [
    {
     "data": {
      "text/html": [
       "<div>\n",
       "<style scoped>\n",
       "    .dataframe tbody tr th:only-of-type {\n",
       "        vertical-align: middle;\n",
       "    }\n",
       "\n",
       "    .dataframe tbody tr th {\n",
       "        vertical-align: top;\n",
       "    }\n",
       "\n",
       "    .dataframe thead th {\n",
       "        text-align: right;\n",
       "    }\n",
       "</style>\n",
       "<table border=\"1\" class=\"dataframe\">\n",
       "  <thead>\n",
       "    <tr style=\"text-align: right;\">\n",
       "      <th></th>\n",
       "      <th>subid</th>\n",
       "      <th>package_type</th>\n",
       "      <th>num_weekly_services_utilized</th>\n",
       "      <th>preferred_genre</th>\n",
       "      <th>intended_use</th>\n",
       "      <th>weekly_consumption_hour</th>\n",
       "      <th>num_ideal_streaming_services</th>\n",
       "      <th>retarget_TF</th>\n",
       "      <th>age</th>\n",
       "      <th>male_TF</th>\n",
       "      <th>...</th>\n",
       "      <th>creation_until_cancel_days</th>\n",
       "      <th>cancel_before_trial_end</th>\n",
       "      <th>trial_end_date</th>\n",
       "      <th>initial_credit_card_declined</th>\n",
       "      <th>revenue_net</th>\n",
       "      <th>join_fee</th>\n",
       "      <th>language</th>\n",
       "      <th>paid_TF</th>\n",
       "      <th>refund_after_trial_TF</th>\n",
       "      <th>payment_type</th>\n",
       "    </tr>\n",
       "  </thead>\n",
       "  <tbody>\n",
       "    <tr>\n",
       "      <th>162502</th>\n",
       "      <td>21724479</td>\n",
       "      <td>economy</td>\n",
       "      <td>NaN</td>\n",
       "      <td>comedy</td>\n",
       "      <td>access to exclusive content</td>\n",
       "      <td>NaN</td>\n",
       "      <td>NaN</td>\n",
       "      <td>False</td>\n",
       "      <td>NaN</td>\n",
       "      <td>False</td>\n",
       "      <td>...</td>\n",
       "      <td>NaN</td>\n",
       "      <td>True</td>\n",
       "      <td>2020-02-08</td>\n",
       "      <td>False</td>\n",
       "      <td>NaN</td>\n",
       "      <td>NaN</td>\n",
       "      <td>ar</td>\n",
       "      <td>True</td>\n",
       "      <td>False</td>\n",
       "      <td>Standard Charter</td>\n",
       "    </tr>\n",
       "    <tr>\n",
       "      <th>380374</th>\n",
       "      <td>23383224</td>\n",
       "      <td>base</td>\n",
       "      <td>NaN</td>\n",
       "      <td>comedy</td>\n",
       "      <td>access to exclusive content</td>\n",
       "      <td>22.951579</td>\n",
       "      <td>NaN</td>\n",
       "      <td>False</td>\n",
       "      <td>70.0</td>\n",
       "      <td>False</td>\n",
       "      <td>...</td>\n",
       "      <td>0.0</td>\n",
       "      <td>False</td>\n",
       "      <td>2020-03-16</td>\n",
       "      <td>False</td>\n",
       "      <td>0.0</td>\n",
       "      <td>0.3303</td>\n",
       "      <td>ar</td>\n",
       "      <td>False</td>\n",
       "      <td>False</td>\n",
       "      <td>NaN</td>\n",
       "    </tr>\n",
       "    <tr>\n",
       "      <th>496617</th>\n",
       "      <td>26844789</td>\n",
       "      <td>enhanced</td>\n",
       "      <td>3.362885</td>\n",
       "      <td>regional</td>\n",
       "      <td>replace OTT</td>\n",
       "      <td>36.001186</td>\n",
       "      <td>1.951776</td>\n",
       "      <td>False</td>\n",
       "      <td>25.0</td>\n",
       "      <td>True</td>\n",
       "      <td>...</td>\n",
       "      <td>1.0</td>\n",
       "      <td>False</td>\n",
       "      <td>2019-12-22</td>\n",
       "      <td>False</td>\n",
       "      <td>0.0</td>\n",
       "      <td>0.1101</td>\n",
       "      <td>ar</td>\n",
       "      <td>False</td>\n",
       "      <td>False</td>\n",
       "      <td>NaN</td>\n",
       "    </tr>\n",
       "    <tr>\n",
       "      <th>356799</th>\n",
       "      <td>29417030</td>\n",
       "      <td>base</td>\n",
       "      <td>NaN</td>\n",
       "      <td>drama</td>\n",
       "      <td>replace OTT</td>\n",
       "      <td>20.051667</td>\n",
       "      <td>NaN</td>\n",
       "      <td>False</td>\n",
       "      <td>30.0</td>\n",
       "      <td>False</td>\n",
       "      <td>...</td>\n",
       "      <td>0.0</td>\n",
       "      <td>False</td>\n",
       "      <td>2020-02-11</td>\n",
       "      <td>False</td>\n",
       "      <td>0.0</td>\n",
       "      <td>0.0367</td>\n",
       "      <td>ar</td>\n",
       "      <td>False</td>\n",
       "      <td>False</td>\n",
       "      <td>NaN</td>\n",
       "    </tr>\n",
       "    <tr>\n",
       "      <th>681701</th>\n",
       "      <td>26723159</td>\n",
       "      <td>base</td>\n",
       "      <td>3.731089</td>\n",
       "      <td>comedy</td>\n",
       "      <td>replace OTT</td>\n",
       "      <td>22.951579</td>\n",
       "      <td>2.506384</td>\n",
       "      <td>False</td>\n",
       "      <td>28.0</td>\n",
       "      <td>False</td>\n",
       "      <td>...</td>\n",
       "      <td>9.0</td>\n",
       "      <td>False</td>\n",
       "      <td>2019-10-20</td>\n",
       "      <td>False</td>\n",
       "      <td>0.0</td>\n",
       "      <td>0.0367</td>\n",
       "      <td>ar</td>\n",
       "      <td>False</td>\n",
       "      <td>False</td>\n",
       "      <td>NaN</td>\n",
       "    </tr>\n",
       "  </tbody>\n",
       "</table>\n",
       "<p>5 rows × 29 columns</p>\n",
       "</div>"
      ],
      "text/plain": [
       "           subid package_type  num_weekly_services_utilized preferred_genre  \\\n",
       "162502  21724479      economy                           NaN          comedy   \n",
       "380374  23383224         base                           NaN          comedy   \n",
       "496617  26844789     enhanced                      3.362885        regional   \n",
       "356799  29417030         base                           NaN           drama   \n",
       "681701  26723159         base                      3.731089          comedy   \n",
       "\n",
       "                       intended_use  weekly_consumption_hour  \\\n",
       "162502  access to exclusive content                      NaN   \n",
       "380374  access to exclusive content                22.951579   \n",
       "496617                  replace OTT                36.001186   \n",
       "356799                  replace OTT                20.051667   \n",
       "681701                  replace OTT                22.951579   \n",
       "\n",
       "        num_ideal_streaming_services  retarget_TF   age male_TF  ...  \\\n",
       "162502                           NaN        False   NaN   False  ...   \n",
       "380374                           NaN        False  70.0   False  ...   \n",
       "496617                      1.951776        False  25.0    True  ...   \n",
       "356799                           NaN        False  30.0   False  ...   \n",
       "681701                      2.506384        False  28.0   False  ...   \n",
       "\n",
       "       creation_until_cancel_days cancel_before_trial_end trial_end_date  \\\n",
       "162502                        NaN                    True     2020-02-08   \n",
       "380374                        0.0                   False     2020-03-16   \n",
       "496617                        1.0                   False     2019-12-22   \n",
       "356799                        0.0                   False     2020-02-11   \n",
       "681701                        9.0                   False     2019-10-20   \n",
       "\n",
       "       initial_credit_card_declined  revenue_net join_fee  language  paid_TF  \\\n",
       "162502                        False          NaN      NaN        ar     True   \n",
       "380374                        False          0.0   0.3303        ar    False   \n",
       "496617                        False          0.0   0.1101        ar    False   \n",
       "356799                        False          0.0   0.0367        ar    False   \n",
       "681701                        False          0.0   0.0367        ar    False   \n",
       "\n",
       "       refund_after_trial_TF      payment_type  \n",
       "162502                 False  Standard Charter  \n",
       "380374                 False               NaN  \n",
       "496617                 False               NaN  \n",
       "356799                 False               NaN  \n",
       "681701                 False               NaN  \n",
       "\n",
       "[5 rows x 29 columns]"
      ]
     },
     "execution_count": 44,
     "metadata": {},
     "output_type": "execute_result"
    }
   ],
   "source": [
    "df_sub.head()"
   ]
  },
  {
   "cell_type": "code",
   "execution_count": 45,
   "id": "749636e0",
   "metadata": {
    "scrolled": true
   },
   "outputs": [
    {
     "data": {
      "text/html": [
       "<div>\n",
       "<style scoped>\n",
       "    .dataframe tbody tr th:only-of-type {\n",
       "        vertical-align: middle;\n",
       "    }\n",
       "\n",
       "    .dataframe tbody tr th {\n",
       "        vertical-align: top;\n",
       "    }\n",
       "\n",
       "    .dataframe thead th {\n",
       "        text-align: right;\n",
       "    }\n",
       "</style>\n",
       "<table border=\"1\" class=\"dataframe\">\n",
       "  <thead>\n",
       "    <tr style=\"text-align: right;\">\n",
       "      <th></th>\n",
       "      <th>customer_service_rep_id</th>\n",
       "      <th>subid</th>\n",
       "      <th>current_sub_TF</th>\n",
       "      <th>cancel_date</th>\n",
       "      <th>account_creation_date</th>\n",
       "      <th>num_trial_days</th>\n",
       "      <th>trial_completed_TF</th>\n",
       "      <th>billing_channel</th>\n",
       "      <th>revenue_net_1month</th>\n",
       "      <th>payment_period</th>\n",
       "      <th>last_payment</th>\n",
       "      <th>next_payment</th>\n",
       "      <th>renew</th>\n",
       "    </tr>\n",
       "  </thead>\n",
       "  <tbody>\n",
       "    <tr>\n",
       "      <th>4</th>\n",
       "      <td>36189811</td>\n",
       "      <td>25108574</td>\n",
       "      <td>False</td>\n",
       "      <td>NaT</td>\n",
       "      <td>2019-11-26 03:30:29</td>\n",
       "      <td>7</td>\n",
       "      <td>True</td>\n",
       "      <td>itunes</td>\n",
       "      <td>1.1377</td>\n",
       "      <td>0</td>\n",
       "      <td>2019-11-26 03:30:29</td>\n",
       "      <td>2019-11-26 03:30:29</td>\n",
       "      <td>NaN</td>\n",
       "    </tr>\n",
       "    <tr>\n",
       "      <th>5</th>\n",
       "      <td>36189811</td>\n",
       "      <td>25108574</td>\n",
       "      <td>False</td>\n",
       "      <td>NaT</td>\n",
       "      <td>2019-11-26 03:30:29</td>\n",
       "      <td>7</td>\n",
       "      <td>True</td>\n",
       "      <td>itunes</td>\n",
       "      <td>1.1377</td>\n",
       "      <td>1</td>\n",
       "      <td>2019-11-26 03:30:29</td>\n",
       "      <td>2019-12-27 03:30:29</td>\n",
       "      <td>NaN</td>\n",
       "    </tr>\n",
       "    <tr>\n",
       "      <th>6</th>\n",
       "      <td>36189811</td>\n",
       "      <td>25108574</td>\n",
       "      <td>False</td>\n",
       "      <td>NaT</td>\n",
       "      <td>2019-11-26 03:30:29</td>\n",
       "      <td>7</td>\n",
       "      <td>True</td>\n",
       "      <td>itunes</td>\n",
       "      <td>1.1377</td>\n",
       "      <td>2</td>\n",
       "      <td>2019-12-27 03:30:29</td>\n",
       "      <td>2020-01-26 03:30:29</td>\n",
       "      <td>NaN</td>\n",
       "    </tr>\n",
       "    <tr>\n",
       "      <th>7</th>\n",
       "      <td>36189811</td>\n",
       "      <td>25108574</td>\n",
       "      <td>False</td>\n",
       "      <td>NaT</td>\n",
       "      <td>2019-11-26 03:30:29</td>\n",
       "      <td>7</td>\n",
       "      <td>True</td>\n",
       "      <td>itunes</td>\n",
       "      <td>1.1377</td>\n",
       "      <td>3</td>\n",
       "      <td>2020-01-26 03:30:29</td>\n",
       "      <td>NaT</td>\n",
       "      <td>NaN</td>\n",
       "    </tr>\n",
       "    <tr>\n",
       "      <th>8</th>\n",
       "      <td>31174901</td>\n",
       "      <td>25914865</td>\n",
       "      <td>True</td>\n",
       "      <td>NaT</td>\n",
       "      <td>2020-03-19 01:20:25</td>\n",
       "      <td>14</td>\n",
       "      <td>True</td>\n",
       "      <td>itunes</td>\n",
       "      <td>1.1377</td>\n",
       "      <td>0</td>\n",
       "      <td>2020-03-19 01:20:25</td>\n",
       "      <td>2020-04-02 01:20:25</td>\n",
       "      <td>NaN</td>\n",
       "    </tr>\n",
       "  </tbody>\n",
       "</table>\n",
       "</div>"
      ],
      "text/plain": [
       "   customer_service_rep_id     subid  current_sub_TF cancel_date  \\\n",
       "4                 36189811  25108574           False         NaT   \n",
       "5                 36189811  25108574           False         NaT   \n",
       "6                 36189811  25108574           False         NaT   \n",
       "7                 36189811  25108574           False         NaT   \n",
       "8                 31174901  25914865            True         NaT   \n",
       "\n",
       "  account_creation_date  num_trial_days  trial_completed_TF billing_channel  \\\n",
       "4   2019-11-26 03:30:29               7                True          itunes   \n",
       "5   2019-11-26 03:30:29               7                True          itunes   \n",
       "6   2019-11-26 03:30:29               7                True          itunes   \n",
       "7   2019-11-26 03:30:29               7                True          itunes   \n",
       "8   2020-03-19 01:20:25              14                True          itunes   \n",
       "\n",
       "   revenue_net_1month  payment_period        last_payment        next_payment  \\\n",
       "4              1.1377               0 2019-11-26 03:30:29 2019-11-26 03:30:29   \n",
       "5              1.1377               1 2019-11-26 03:30:29 2019-12-27 03:30:29   \n",
       "6              1.1377               2 2019-12-27 03:30:29 2020-01-26 03:30:29   \n",
       "7              1.1377               3 2020-01-26 03:30:29                 NaT   \n",
       "8              1.1377               0 2020-03-19 01:20:25 2020-04-02 01:20:25   \n",
       "\n",
       "  renew  \n",
       "4   NaN  \n",
       "5   NaN  \n",
       "6   NaN  \n",
       "7   NaN  \n",
       "8   NaN  "
      ]
     },
     "execution_count": 45,
     "metadata": {},
     "output_type": "execute_result"
    }
   ],
   "source": [
    "df_cust.head()"
   ]
  },
  {
   "cell_type": "code",
   "execution_count": 46,
   "id": "7b285751",
   "metadata": {},
   "outputs": [
    {
     "data": {
      "text/html": [
       "<div>\n",
       "<style scoped>\n",
       "    .dataframe tbody tr th:only-of-type {\n",
       "        vertical-align: middle;\n",
       "    }\n",
       "\n",
       "    .dataframe tbody tr th {\n",
       "        vertical-align: top;\n",
       "    }\n",
       "\n",
       "    .dataframe thead th {\n",
       "        text-align: right;\n",
       "    }\n",
       "</style>\n",
       "<table border=\"1\" class=\"dataframe\">\n",
       "  <thead>\n",
       "    <tr style=\"text-align: right;\">\n",
       "      <th></th>\n",
       "      <th>subid</th>\n",
       "      <th>date</th>\n",
       "      <th>app_opens</th>\n",
       "      <th>cust_service_mssgs</th>\n",
       "      <th>num_videos_completed</th>\n",
       "      <th>num_videos_more_than_30_seconds</th>\n",
       "      <th>num_videos_rated</th>\n",
       "      <th>num_series_started</th>\n",
       "      <th>payment_period</th>\n",
       "    </tr>\n",
       "  </thead>\n",
       "  <tbody>\n",
       "    <tr>\n",
       "      <th>1</th>\n",
       "      <td>22349235</td>\n",
       "      <td>2019-07-01</td>\n",
       "      <td>1.0</td>\n",
       "      <td>1.0</td>\n",
       "      <td>0.0</td>\n",
       "      <td>6.0</td>\n",
       "      <td>0.0</td>\n",
       "      <td>0.0</td>\n",
       "      <td>0.0</td>\n",
       "    </tr>\n",
       "    <tr>\n",
       "      <th>2</th>\n",
       "      <td>22349235</td>\n",
       "      <td>2019-07-02</td>\n",
       "      <td>1.0</td>\n",
       "      <td>0.0</td>\n",
       "      <td>0.0</td>\n",
       "      <td>5.0</td>\n",
       "      <td>0.0</td>\n",
       "      <td>0.0</td>\n",
       "      <td>0.0</td>\n",
       "    </tr>\n",
       "    <tr>\n",
       "      <th>3</th>\n",
       "      <td>22349235</td>\n",
       "      <td>2019-07-03</td>\n",
       "      <td>0.0</td>\n",
       "      <td>1.0</td>\n",
       "      <td>0.0</td>\n",
       "      <td>0.0</td>\n",
       "      <td>0.0</td>\n",
       "      <td>0.0</td>\n",
       "      <td>0.0</td>\n",
       "    </tr>\n",
       "    <tr>\n",
       "      <th>50</th>\n",
       "      <td>20848497</td>\n",
       "      <td>2019-07-02</td>\n",
       "      <td>1.0</td>\n",
       "      <td>0.0</td>\n",
       "      <td>7.0</td>\n",
       "      <td>7.0</td>\n",
       "      <td>0.0</td>\n",
       "      <td>0.0</td>\n",
       "      <td>0.0</td>\n",
       "    </tr>\n",
       "    <tr>\n",
       "      <th>51</th>\n",
       "      <td>22680106</td>\n",
       "      <td>2019-07-02</td>\n",
       "      <td>2.0</td>\n",
       "      <td>1.0</td>\n",
       "      <td>7.0</td>\n",
       "      <td>7.0</td>\n",
       "      <td>0.0</td>\n",
       "      <td>1.0</td>\n",
       "      <td>0.0</td>\n",
       "    </tr>\n",
       "  </tbody>\n",
       "</table>\n",
       "</div>"
      ],
      "text/plain": [
       "       subid       date  app_opens  cust_service_mssgs  num_videos_completed  \\\n",
       "1   22349235 2019-07-01        1.0                 1.0                   0.0   \n",
       "2   22349235 2019-07-02        1.0                 0.0                   0.0   \n",
       "3   22349235 2019-07-03        0.0                 1.0                   0.0   \n",
       "50  20848497 2019-07-02        1.0                 0.0                   7.0   \n",
       "51  22680106 2019-07-02        2.0                 1.0                   7.0   \n",
       "\n",
       "    num_videos_more_than_30_seconds  num_videos_rated  num_series_started  \\\n",
       "1                               6.0               0.0                 0.0   \n",
       "2                               5.0               0.0                 0.0   \n",
       "3                               0.0               0.0                 0.0   \n",
       "50                              7.0               0.0                 0.0   \n",
       "51                              7.0               0.0                 1.0   \n",
       "\n",
       "    payment_period  \n",
       "1              0.0  \n",
       "2              0.0  \n",
       "3              0.0  \n",
       "50             0.0  \n",
       "51             0.0  "
      ]
     },
     "execution_count": 46,
     "metadata": {},
     "output_type": "execute_result"
    }
   ],
   "source": [
    "df_en.head()"
   ]
  },
  {
   "cell_type": "code",
   "execution_count": 47,
   "id": "5623cff1",
   "metadata": {},
   "outputs": [
    {
     "data": {
      "text/html": [
       "<div>\n",
       "<style scoped>\n",
       "    .dataframe tbody tr th:only-of-type {\n",
       "        vertical-align: middle;\n",
       "    }\n",
       "\n",
       "    .dataframe tbody tr th {\n",
       "        vertical-align: top;\n",
       "    }\n",
       "\n",
       "    .dataframe thead th {\n",
       "        text-align: right;\n",
       "    }\n",
       "</style>\n",
       "<table border=\"1\" class=\"dataframe\">\n",
       "  <thead>\n",
       "    <tr style=\"text-align: right;\">\n",
       "      <th></th>\n",
       "      <th>channel</th>\n",
       "      <th>date</th>\n",
       "      <th>spend_AED</th>\n",
       "    </tr>\n",
       "  </thead>\n",
       "  <tbody>\n",
       "    <tr>\n",
       "      <th>0</th>\n",
       "      <td>bing</td>\n",
       "      <td>201907</td>\n",
       "      <td>400</td>\n",
       "    </tr>\n",
       "    <tr>\n",
       "      <th>1</th>\n",
       "      <td>display</td>\n",
       "      <td>201907</td>\n",
       "      <td>12</td>\n",
       "    </tr>\n",
       "    <tr>\n",
       "      <th>2</th>\n",
       "      <td>facebook</td>\n",
       "      <td>201907</td>\n",
       "      <td>9000</td>\n",
       "    </tr>\n",
       "    <tr>\n",
       "      <th>3</th>\n",
       "      <td>search</td>\n",
       "      <td>201907</td>\n",
       "      <td>13000</td>\n",
       "    </tr>\n",
       "    <tr>\n",
       "      <th>4</th>\n",
       "      <td>youtube</td>\n",
       "      <td>201907</td>\n",
       "      <td>90</td>\n",
       "    </tr>\n",
       "  </tbody>\n",
       "</table>\n",
       "</div>"
      ],
      "text/plain": [
       "    channel    date  spend_AED\n",
       "0      bing  201907        400\n",
       "1   display  201907         12\n",
       "2  facebook  201907       9000\n",
       "3    search  201907      13000\n",
       "4   youtube  201907         90"
      ]
     },
     "execution_count": 47,
     "metadata": {},
     "output_type": "execute_result"
    }
   ],
   "source": [
    "df_ch.head()"
   ]
  },
  {
   "cell_type": "markdown",
   "id": "670ce4d5",
   "metadata": {},
   "source": [
    "# AB Test"
   ]
  },
  {
   "cell_type": "code",
   "execution_count": 48,
   "id": "e74da656",
   "metadata": {},
   "outputs": [
    {
     "data": {
      "text/plain": [
       "base_uae_14_day_trial                227096\n",
       "high_uae_14_day_trial                   325\n",
       "low_uae_no_trial                        167\n",
       "base_eur_14_day_trial                    18\n",
       "high_sar_14_day_trial                    12\n",
       "low_gbp_14_day_trial                      4\n",
       "high_aud_14_day_trial                     2\n",
       "low_eur_no_trial                          1\n",
       "base_uae_no_trial_7_day_guarantee         1\n",
       "low_sar_no_trial                          1\n",
       "high_jpy_14_day_trial                     1\n",
       "Name: plan_type, dtype: int64"
      ]
     },
     "execution_count": 48,
     "metadata": {},
     "output_type": "execute_result"
    }
   ],
   "source": [
    "df_sub['plan_type'].value_counts()"
   ]
  },
  {
   "cell_type": "code",
   "execution_count": 49,
   "id": "d1c2dda6",
   "metadata": {},
   "outputs": [],
   "source": [
    "df_sub['conversion'] = False"
   ]
  },
  {
   "cell_type": "code",
   "execution_count": 58,
   "id": "7f4af65c",
   "metadata": {},
   "outputs": [],
   "source": [
    "df_sub['conversion'][(df_sub['paid_TF'] == True) & (df_sub['refund_after_trial_TF'] == False)] = True"
   ]
  },
  {
   "cell_type": "code",
   "execution_count": 68,
   "id": "37256e45",
   "metadata": {},
   "outputs": [
    {
     "data": {
      "text/plain": [
       "base_uae_14_day_trial                82558\n",
       "low_uae_no_trial                       133\n",
       "high_uae_14_day_trial                   97\n",
       "base_eur_14_day_trial                    9\n",
       "high_sar_14_day_trial                    4\n",
       "high_aud_14_day_trial                    1\n",
       "base_uae_no_trial_7_day_guarantee        1\n",
       "low_gbp_14_day_trial                     1\n",
       "low_sar_no_trial                         1\n",
       "Name: plan_type, dtype: int64"
      ]
     },
     "execution_count": 68,
     "metadata": {},
     "output_type": "execute_result"
    }
   ],
   "source": [
    "df_sub[df_sub['conversion'] == True]['plan_type'].value_counts()"
   ]
  },
  {
   "cell_type": "code",
   "execution_count": 166,
   "id": "40fb74d5",
   "metadata": {},
   "outputs": [],
   "source": [
    "base = df_sub['plan_type'].value_counts().to_frame()"
   ]
  },
  {
   "cell_type": "code",
   "execution_count": 167,
   "id": "936f21ec",
   "metadata": {},
   "outputs": [
    {
     "data": {
      "text/html": [
       "<div>\n",
       "<style scoped>\n",
       "    .dataframe tbody tr th:only-of-type {\n",
       "        vertical-align: middle;\n",
       "    }\n",
       "\n",
       "    .dataframe tbody tr th {\n",
       "        vertical-align: top;\n",
       "    }\n",
       "\n",
       "    .dataframe thead th {\n",
       "        text-align: right;\n",
       "    }\n",
       "</style>\n",
       "<table border=\"1\" class=\"dataframe\">\n",
       "  <thead>\n",
       "    <tr style=\"text-align: right;\">\n",
       "      <th></th>\n",
       "      <th>plan_type</th>\n",
       "    </tr>\n",
       "  </thead>\n",
       "  <tbody>\n",
       "    <tr>\n",
       "      <th>base_uae_14_day_trial</th>\n",
       "      <td>227096</td>\n",
       "    </tr>\n",
       "    <tr>\n",
       "      <th>high_uae_14_day_trial</th>\n",
       "      <td>325</td>\n",
       "    </tr>\n",
       "    <tr>\n",
       "      <th>low_uae_no_trial</th>\n",
       "      <td>167</td>\n",
       "    </tr>\n",
       "    <tr>\n",
       "      <th>base_eur_14_day_trial</th>\n",
       "      <td>18</td>\n",
       "    </tr>\n",
       "    <tr>\n",
       "      <th>high_sar_14_day_trial</th>\n",
       "      <td>12</td>\n",
       "    </tr>\n",
       "    <tr>\n",
       "      <th>low_gbp_14_day_trial</th>\n",
       "      <td>4</td>\n",
       "    </tr>\n",
       "    <tr>\n",
       "      <th>high_aud_14_day_trial</th>\n",
       "      <td>2</td>\n",
       "    </tr>\n",
       "    <tr>\n",
       "      <th>low_eur_no_trial</th>\n",
       "      <td>1</td>\n",
       "    </tr>\n",
       "    <tr>\n",
       "      <th>base_uae_no_trial_7_day_guarantee</th>\n",
       "      <td>1</td>\n",
       "    </tr>\n",
       "    <tr>\n",
       "      <th>low_sar_no_trial</th>\n",
       "      <td>1</td>\n",
       "    </tr>\n",
       "    <tr>\n",
       "      <th>high_jpy_14_day_trial</th>\n",
       "      <td>1</td>\n",
       "    </tr>\n",
       "  </tbody>\n",
       "</table>\n",
       "</div>"
      ],
      "text/plain": [
       "                                   plan_type\n",
       "base_uae_14_day_trial                 227096\n",
       "high_uae_14_day_trial                    325\n",
       "low_uae_no_trial                         167\n",
       "base_eur_14_day_trial                     18\n",
       "high_sar_14_day_trial                     12\n",
       "low_gbp_14_day_trial                       4\n",
       "high_aud_14_day_trial                      2\n",
       "low_eur_no_trial                           1\n",
       "base_uae_no_trial_7_day_guarantee          1\n",
       "low_sar_no_trial                           1\n",
       "high_jpy_14_day_trial                      1"
      ]
     },
     "execution_count": 167,
     "metadata": {},
     "output_type": "execute_result"
    }
   ],
   "source": [
    "base"
   ]
  },
  {
   "cell_type": "code",
   "execution_count": 148,
   "id": "43a21aca",
   "metadata": {},
   "outputs": [],
   "source": [
    "conversion = df_sub[df_sub['conversion'] == True]['plan_type'].value_counts().to_frame()"
   ]
  },
  {
   "cell_type": "code",
   "execution_count": 149,
   "id": "44afeb35",
   "metadata": {},
   "outputs": [
    {
     "data": {
      "text/html": [
       "<div>\n",
       "<style scoped>\n",
       "    .dataframe tbody tr th:only-of-type {\n",
       "        vertical-align: middle;\n",
       "    }\n",
       "\n",
       "    .dataframe tbody tr th {\n",
       "        vertical-align: top;\n",
       "    }\n",
       "\n",
       "    .dataframe thead th {\n",
       "        text-align: right;\n",
       "    }\n",
       "</style>\n",
       "<table border=\"1\" class=\"dataframe\">\n",
       "  <thead>\n",
       "    <tr style=\"text-align: right;\">\n",
       "      <th></th>\n",
       "      <th>plan_type</th>\n",
       "    </tr>\n",
       "  </thead>\n",
       "  <tbody>\n",
       "    <tr>\n",
       "      <th>base_uae_14_day_trial</th>\n",
       "      <td>82558</td>\n",
       "    </tr>\n",
       "    <tr>\n",
       "      <th>low_uae_no_trial</th>\n",
       "      <td>133</td>\n",
       "    </tr>\n",
       "    <tr>\n",
       "      <th>high_uae_14_day_trial</th>\n",
       "      <td>97</td>\n",
       "    </tr>\n",
       "    <tr>\n",
       "      <th>base_eur_14_day_trial</th>\n",
       "      <td>9</td>\n",
       "    </tr>\n",
       "    <tr>\n",
       "      <th>high_sar_14_day_trial</th>\n",
       "      <td>4</td>\n",
       "    </tr>\n",
       "    <tr>\n",
       "      <th>high_aud_14_day_trial</th>\n",
       "      <td>1</td>\n",
       "    </tr>\n",
       "    <tr>\n",
       "      <th>base_uae_no_trial_7_day_guarantee</th>\n",
       "      <td>1</td>\n",
       "    </tr>\n",
       "    <tr>\n",
       "      <th>low_gbp_14_day_trial</th>\n",
       "      <td>1</td>\n",
       "    </tr>\n",
       "    <tr>\n",
       "      <th>low_sar_no_trial</th>\n",
       "      <td>1</td>\n",
       "    </tr>\n",
       "  </tbody>\n",
       "</table>\n",
       "</div>"
      ],
      "text/plain": [
       "                                   plan_type\n",
       "base_uae_14_day_trial                  82558\n",
       "low_uae_no_trial                         133\n",
       "high_uae_14_day_trial                     97\n",
       "base_eur_14_day_trial                      9\n",
       "high_sar_14_day_trial                      4\n",
       "high_aud_14_day_trial                      1\n",
       "base_uae_no_trial_7_day_guarantee          1\n",
       "low_gbp_14_day_trial                       1\n",
       "low_sar_no_trial                           1"
      ]
     },
     "execution_count": 149,
     "metadata": {},
     "output_type": "execute_result"
    }
   ],
   "source": [
    "conversion"
   ]
  },
  {
   "cell_type": "code",
   "execution_count": 168,
   "id": "6be42de8",
   "metadata": {},
   "outputs": [],
   "source": [
    "base_14trial = base.loc['base_uae_14_day_trial','plan_type']"
   ]
  },
  {
   "cell_type": "code",
   "execution_count": 169,
   "id": "78cf20f3",
   "metadata": {},
   "outputs": [],
   "source": [
    "base_14con = conversion.loc['base_uae_14_day_trial','plan_type']"
   ]
  },
  {
   "cell_type": "code",
   "execution_count": 171,
   "id": "c086ce07",
   "metadata": {},
   "outputs": [],
   "source": [
    "prob_14trial = base_14con/base_14trial"
   ]
  },
  {
   "cell_type": "code",
   "execution_count": 185,
   "id": "b159c622",
   "metadata": {},
   "outputs": [
    {
     "name": "stdout",
     "output_type": "stream",
     "text": [
      "Conversion rate for 14 days base trial is :0.36\n"
     ]
    }
   ],
   "source": [
    "print('Conversion rate for 14 days base trial is :{:.2f}'.format(prob_14trial))"
   ]
  },
  {
   "cell_type": "code",
   "execution_count": 175,
   "id": "f62f6b84",
   "metadata": {},
   "outputs": [],
   "source": [
    "low_notrial = base.loc[ 'low_uae_no_trial','plan_type']"
   ]
  },
  {
   "cell_type": "code",
   "execution_count": 176,
   "id": "df756b97",
   "metadata": {},
   "outputs": [],
   "source": [
    "low_nocon = conversion.loc[ 'low_uae_no_trial','plan_type']"
   ]
  },
  {
   "cell_type": "code",
   "execution_count": 177,
   "id": "e647893a",
   "metadata": {},
   "outputs": [],
   "source": [
    "prob_notrial = low_nocon/low_notrial"
   ]
  },
  {
   "cell_type": "code",
   "execution_count": 186,
   "id": "806fefab",
   "metadata": {},
   "outputs": [
    {
     "name": "stdout",
     "output_type": "stream",
     "text": [
      "Conversion rate for no trial is :0.80\n"
     ]
    }
   ],
   "source": [
    "print('Conversion rate for no trial is :{:.2f}'.format(prob_notrial))"
   ]
  },
  {
   "cell_type": "code",
   "execution_count": 179,
   "id": "efefc4bf",
   "metadata": {},
   "outputs": [],
   "source": [
    "high_14trial = base.loc['high_uae_14_day_trial', 'plan_type' ]"
   ]
  },
  {
   "cell_type": "code",
   "execution_count": 181,
   "id": "1eddf8b2",
   "metadata": {},
   "outputs": [],
   "source": [
    "high_14con = conversion.loc['high_uae_14_day_trial', 'plan_type' ]"
   ]
  },
  {
   "cell_type": "code",
   "execution_count": 182,
   "id": "a775813d",
   "metadata": {},
   "outputs": [],
   "source": [
    "prob_hightrial = high_14con/high_14trial"
   ]
  },
  {
   "cell_type": "code",
   "execution_count": 184,
   "id": "2236f43b",
   "metadata": {},
   "outputs": [
    {
     "name": "stdout",
     "output_type": "stream",
     "text": [
      "Conversion rate for high trial is :0.30\n"
     ]
    }
   ],
   "source": [
    "print('Conversion rate for high trial is :{:.2f}'.format(prob_hightrial))"
   ]
  },
  {
   "cell_type": "code",
   "execution_count": 120,
   "id": "15b1941e",
   "metadata": {},
   "outputs": [],
   "source": [
    "z_no = (prob_notrial - prob_14trial)/np.sqrt((prob_14trial)*(1-prob_14trial)*(1/base_14trial + 1/low_notrial))"
   ]
  },
  {
   "cell_type": "code",
   "execution_count": 121,
   "id": "ae1c3896",
   "metadata": {},
   "outputs": [
    {
     "data": {
      "text/plain": [
       "11.62503521676383"
      ]
     },
     "execution_count": 121,
     "metadata": {},
     "output_type": "execute_result"
    }
   ],
   "source": [
    "z_no"
   ]
  },
  {
   "cell_type": "code",
   "execution_count": 122,
   "id": "becfcb6d",
   "metadata": {},
   "outputs": [],
   "source": [
    "z_high = (prob_hightrial - prob_14trial)/np.sqrt((prob_14trial)*(1-prob_14trial)*(1/base_14trial + 1/high_14trial))"
   ]
  },
  {
   "cell_type": "code",
   "execution_count": 123,
   "id": "ea01c96b",
   "metadata": {},
   "outputs": [
    {
     "data": {
      "text/plain": [
       "-2.4372113944687612"
      ]
     },
     "execution_count": 123,
     "metadata": {},
     "output_type": "execute_result"
    }
   ],
   "source": [
    "z_high"
   ]
  },
  {
   "cell_type": "markdown",
   "id": "08d51f58",
   "metadata": {},
   "source": [
    "# Attribution and Allocation"
   ]
  },
  {
   "cell_type": "code",
   "execution_count": 124,
   "id": "bffc23a7",
   "metadata": {},
   "outputs": [],
   "source": [
    "df_channel = pd.read_csv('Copy of channel_spend_graduate.csv')"
   ]
  },
  {
   "cell_type": "code",
   "execution_count": 126,
   "id": "353761b5",
   "metadata": {},
   "outputs": [],
   "source": [
    "spend = df_channel.groupby('channel').sum('spend_AED')"
   ]
  },
  {
   "cell_type": "code",
   "execution_count": 132,
   "id": "0a2b5c37",
   "metadata": {},
   "outputs": [],
   "source": [
    "spend = spend.drop('date', axis = 1)"
   ]
  },
  {
   "cell_type": "code",
   "execution_count": 133,
   "id": "0d2ff8f7",
   "metadata": {},
   "outputs": [
    {
     "data": {
      "text/html": [
       "<div>\n",
       "<style scoped>\n",
       "    .dataframe tbody tr th:only-of-type {\n",
       "        vertical-align: middle;\n",
       "    }\n",
       "\n",
       "    .dataframe tbody tr th {\n",
       "        vertical-align: top;\n",
       "    }\n",
       "\n",
       "    .dataframe thead th {\n",
       "        text-align: right;\n",
       "    }\n",
       "</style>\n",
       "<table border=\"1\" class=\"dataframe\">\n",
       "  <thead>\n",
       "    <tr style=\"text-align: right;\">\n",
       "      <th></th>\n",
       "      <th>spend_AED</th>\n",
       "    </tr>\n",
       "    <tr>\n",
       "      <th>channel</th>\n",
       "      <th></th>\n",
       "    </tr>\n",
       "  </thead>\n",
       "  <tbody>\n",
       "    <tr>\n",
       "      <th>bing</th>\n",
       "      <td>10800</td>\n",
       "    </tr>\n",
       "    <tr>\n",
       "      <th>display</th>\n",
       "      <td>366</td>\n",
       "    </tr>\n",
       "    <tr>\n",
       "      <th>facebook</th>\n",
       "      <td>113500</td>\n",
       "    </tr>\n",
       "    <tr>\n",
       "      <th>search</th>\n",
       "      <td>222500</td>\n",
       "    </tr>\n",
       "    <tr>\n",
       "      <th>youtube</th>\n",
       "      <td>8730</td>\n",
       "    </tr>\n",
       "  </tbody>\n",
       "</table>\n",
       "</div>"
      ],
      "text/plain": [
       "          spend_AED\n",
       "channel            \n",
       "bing          10800\n",
       "display         366\n",
       "facebook     113500\n",
       "search       222500\n",
       "youtube        8730"
      ]
     },
     "execution_count": 133,
     "metadata": {},
     "output_type": "execute_result"
    }
   ],
   "source": [
    "spend"
   ]
  },
  {
   "cell_type": "code",
   "execution_count": 139,
   "id": "f74941b9",
   "metadata": {},
   "outputs": [],
   "source": [
    "attribution = df_sub['attribution_technical'].value_counts().to_frame()"
   ]
  },
  {
   "cell_type": "code",
   "execution_count": 142,
   "id": "5734c65c",
   "metadata": {},
   "outputs": [],
   "source": [
    "attribution = attribution.reset_index()\n",
    "attribution.columns = ['channel','num_user']"
   ]
  },
  {
   "cell_type": "code",
   "execution_count": 144,
   "id": "a8bfda66",
   "metadata": {},
   "outputs": [],
   "source": [
    "attribution = pd.merge(attribution, spend, on = ['channel'])"
   ]
  },
  {
   "cell_type": "code",
   "execution_count": 146,
   "id": "9efc157a",
   "metadata": {},
   "outputs": [],
   "source": [
    "attribution['avg_CAC'] = attribution['spend_AED']/attribution['num_user']"
   ]
  },
  {
   "cell_type": "code",
   "execution_count": 147,
   "id": "1eb66114",
   "metadata": {},
   "outputs": [
    {
     "data": {
      "text/html": [
       "<div>\n",
       "<style scoped>\n",
       "    .dataframe tbody tr th:only-of-type {\n",
       "        vertical-align: middle;\n",
       "    }\n",
       "\n",
       "    .dataframe tbody tr th {\n",
       "        vertical-align: top;\n",
       "    }\n",
       "\n",
       "    .dataframe thead th {\n",
       "        text-align: right;\n",
       "    }\n",
       "</style>\n",
       "<table border=\"1\" class=\"dataframe\">\n",
       "  <thead>\n",
       "    <tr style=\"text-align: right;\">\n",
       "      <th></th>\n",
       "      <th>channel</th>\n",
       "      <th>num_user</th>\n",
       "      <th>spend_AED</th>\n",
       "      <th>avg_CAC</th>\n",
       "    </tr>\n",
       "  </thead>\n",
       "  <tbody>\n",
       "    <tr>\n",
       "      <th>0</th>\n",
       "      <td>facebook</td>\n",
       "      <td>80251</td>\n",
       "      <td>113500</td>\n",
       "      <td>1.414313</td>\n",
       "    </tr>\n",
       "    <tr>\n",
       "      <th>1</th>\n",
       "      <td>search</td>\n",
       "      <td>25306</td>\n",
       "      <td>222500</td>\n",
       "      <td>8.792381</td>\n",
       "    </tr>\n",
       "    <tr>\n",
       "      <th>2</th>\n",
       "      <td>display</td>\n",
       "      <td>1407</td>\n",
       "      <td>366</td>\n",
       "      <td>0.260128</td>\n",
       "    </tr>\n",
       "    <tr>\n",
       "      <th>3</th>\n",
       "      <td>bing</td>\n",
       "      <td>1146</td>\n",
       "      <td>10800</td>\n",
       "      <td>9.424084</td>\n",
       "    </tr>\n",
       "    <tr>\n",
       "      <th>4</th>\n",
       "      <td>youtube</td>\n",
       "      <td>913</td>\n",
       "      <td>8730</td>\n",
       "      <td>9.561884</td>\n",
       "    </tr>\n",
       "  </tbody>\n",
       "</table>\n",
       "</div>"
      ],
      "text/plain": [
       "    channel  num_user  spend_AED   avg_CAC\n",
       "0  facebook     80251     113500  1.414313\n",
       "1    search     25306     222500  8.792381\n",
       "2   display      1407        366  0.260128\n",
       "3      bing      1146      10800  9.424084\n",
       "4   youtube       913       8730  9.561884"
      ]
     },
     "execution_count": 147,
     "metadata": {},
     "output_type": "execute_result"
    }
   ],
   "source": [
    "attribution"
   ]
  },
  {
   "cell_type": "code",
   "execution_count": null,
   "id": "f437a858",
   "metadata": {},
   "outputs": [],
   "source": []
  }
 ],
 "metadata": {
  "kernelspec": {
   "display_name": "Python 3 (ipykernel)",
   "language": "python",
   "name": "python3"
  },
  "language_info": {
   "codemirror_mode": {
    "name": "ipython",
    "version": 3
   },
   "file_extension": ".py",
   "mimetype": "text/x-python",
   "name": "python",
   "nbconvert_exporter": "python",
   "pygments_lexer": "ipython3",
   "version": "3.9.13"
  }
 },
 "nbformat": 4,
 "nbformat_minor": 5
}
